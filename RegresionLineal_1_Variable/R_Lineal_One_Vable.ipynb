{
 "cells": [
  {
   "cell_type": "code",
   "execution_count": null,
   "metadata": {
    "executionInfo": {
     "elapsed": 15,
     "status": "ok",
     "timestamp": 1692053606315,
     "user": {
      "displayName": "Juan Camilo Agudelo Aquite",
      "userId": "02597647805117475012"
     },
     "user_tz": 300
    },
    "id": "AWWRYUQo1Ghv"
   },
   "outputs": [],
   "source": [
    "import numpy as np\n",
    "import matplotlib.pyplot as plt\n",
    "\n",
    "import warnings\n",
    "#suppress warnings\n",
    "warnings.filterwarnings('ignore')"
   ]
  },
  {
   "cell_type": "code",
   "execution_count": null,
   "metadata": {
    "colab": {
     "base_uri": "https://localhost:8080/"
    },
    "executionInfo": {
     "elapsed": 586,
     "status": "ok",
     "timestamp": 1692053628262,
     "user": {
      "displayName": "Juan Camilo Agudelo Aquite",
      "userId": "02597647805117475012"
     },
     "user_tz": 300
    },
    "id": "rIEQbpnM1Gh2",
    "outputId": "720f8e3f-5853-456e-a7dc-ebb14cea6038"
   },
   "outputs": [],
   "source": [
    "data=np.loadtxt(\"datos.txt\",delimiter=',',skiprows=0,usecols=[0,1],dtype='float')\n",
    "print(data[:,1])\n",
    "dataSize = data.shape\n",
    "print(dataSize[0])\n",
    "print(dataSize[1])"
   ]
  },
  {
   "attachments": {},
   "cell_type": "markdown",
   "metadata": {
    "id": "K1e-VSFsrmCe"
   },
   "source": [
    "**PLOT DATA**"
   ]
  },
  {
   "cell_type": "code",
   "execution_count": null,
   "metadata": {
    "colab": {
     "base_uri": "https://localhost:8080/",
     "height": 430
    },
    "executionInfo": {
     "elapsed": 427,
     "status": "ok",
     "timestamp": 1691713883727,
     "user": {
      "displayName": "Juan Camilo Agudelo Aquite",
      "userId": "02597647805117475012"
     },
     "user_tz": 300
    },
    "id": "Mjnre29q1Gh3",
    "outputId": "ff242e83-479d-42f2-fca6-873ae3ca9926"
   },
   "outputs": [],
   "source": [
    "plt.plot(data[:,0],data[:,1],'*')\n",
    "plt.show()"
   ]
  },
  {
   "cell_type": "code",
   "execution_count": null,
   "metadata": {
    "id": "iH6I86k5r1Z_"
   },
   "outputs": [],
   "source": [
    "Beta = np.zeros((2,1))\n",
    "onesVector = np.ones((dataSize[0],))\n",
    "\n",
    "X = np.column_stack((onesVector,data[:,0]))\n",
    "y=np.zeros((dataSize[0],1))\n",
    "y[:,0] = data[:,1]\n",
    "\n",
    "alpha = 0.01\n",
    "numIter = 500\n",
    "m = dataSize[0]\n"
   ]
  },
  {
   "cell_type": "code",
   "execution_count": null,
   "metadata": {
    "id": "hHGyuGTNLw6E"
   },
   "outputs": [],
   "source": [
    "temp1 = (np.reshape(X[:,0],(m,1)))\n",
    "h_beta = np.dot(X,Beta)\n",
    "temp3 = np. multiply(temp1,(np.subtract(h_beta,y)))\n",
    "temp2 = np.sum(temp3)\n",
    "temp4=temp2*(alpha/m)"
   ]
  },
  {
   "cell_type": "code",
   "execution_count": null,
   "metadata": {
    "id": "zTelGu3br2uf"
   },
   "outputs": [],
   "source": [
    "def Gradiente(Beta,alpha,m,X,y,numIter,J):\n",
    "  betaTemp = np.zeros((2,1))\n",
    "  h_beta = np.zeros((m,1))\n",
    "  Z = np.zeros((m,1))\n",
    "\n",
    "\n",
    "  for i in range(numIter):\n",
    "    for j in range(2):\n",
    "      h_beta = np.dot(X,Beta)\n",
    "      temp1 = (np.reshape(X[:,j],(m,1)))\n",
    "      temp2 = np.sum(np. multiply(temp1,(np.subtract(h_beta,y))))\n",
    "      betaTemp[j,0] = Beta[j,0] - (temp2*(alpha/m))\n",
    "\n",
    "    Beta = betaTemp\n",
    "    h_beta = np.dot(X,Beta)\n",
    "    J[i]  = 0 #Implementar la función cost\n",
    "\n",
    "\n",
    "  return (Beta, J)\n"
   ]
  },
  {
   "cell_type": "code",
   "execution_count": null,
   "metadata": {
    "colab": {
     "base_uri": "https://localhost:8080/",
     "height": 301
    },
    "id": "okegGxiuwn33",
    "outputId": "890d871b-0d0f-4c45-83bb-85fde3020bcb"
   },
   "outputs": [],
   "source": [
    "alpha = 0.01\n",
    "numIter = 5500\n",
    "J = np.zeros(numIter,)\n",
    "Beta = np.zeros((2,1))\n",
    "\n",
    "Beta, J = Gradiente(Beta,alpha,m,X,y,numIter,J)\n",
    "\n",
    "plt.plot(J,'*')\n",
    "print(Beta)"
   ]
  },
  {
   "cell_type": "code",
   "execution_count": null,
   "metadata": {
    "colab": {
     "base_uri": "https://localhost:8080/",
     "height": 266
    },
    "id": "Bh60iXHqr3IA",
    "outputId": "30887110-41bf-4449-a735-c614006a8828"
   },
   "outputs": [],
   "source": [
    "h_beta = np.dot(X,Beta)\n",
    "plt.plot(data[:,0],data[:,1],'r*')\n",
    "plt.plot(data[:,0],h_beta,'b*')\n",
    "plt.show()"
   ]
  }
 ],
 "metadata": {
  "colab": {
   "provenance": []
  },
  "interpreter": {
   "hash": "2fb87906eb72b3278984fa4ef1b82009a5d37343c48b5d525e5fe538df9ef8a2"
  },
  "kernelspec": {
   "display_name": "Python 3 (ipykernel)",
   "language": "python",
   "name": "python3"
  },
  "language_info": {
   "codemirror_mode": {
    "name": "ipython",
    "version": 3
   },
   "file_extension": ".py",
   "mimetype": "text/x-python",
   "name": "python",
   "nbconvert_exporter": "python",
   "pygments_lexer": "ipython3",
   "version": "3.10.2"
  }
 },
 "nbformat": 4,
 "nbformat_minor": 4
}
